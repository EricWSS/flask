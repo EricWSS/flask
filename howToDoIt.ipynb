{
 "cells": [
  {
   "cell_type": "markdown",
   "metadata": {},
   "source": [
    "# **FORMULARIO COM FLASK**\n",
    "\n",
    "Vamos ao passo a passo de como criar um formulario com Flask.\n",
    "\n",
    "Primeiro vamos criar o nosso ambiente virtural e para isso primeiramente vamos instalar o pacote que cria os ambientes digitando o comando abaixo no terminal:\n",
    "\n",
    "![virtualenv](virtualenv.png)\n",
    "\n",
    "Feito isso, vamos criar o ambiente com o comando:\n",
    "\n",
    "#### No Windows\n",
    "python -m venv venv\n",
    "\n",
    "#### No Linux/Mac\n",
    "python3 -m venv venv\n",
    "\n",
    "Após a criação e verificação que uma pasta chamada 'VENV' foi criada no seu projeto, vamos inicializar o ambiente com o comando:\n",
    "\n",
    "![activation](img/activation.png)\n",
    "\n",
    "Caso a ativação tenha sido um sucesso, seu prompt deverá ter o seguinte aspecto:\n",
    "\n",
    "![venvok](img/venvok.png)\n",
    " \n",
    "Após isso iremos instalar o Flask no nosso ambiente:\n",
    "\n",
    "![pipflask](img/pipflask.png)\n",
    "\n",
    "## **Primeira janela:**\n",
    "\n",
    "Vamos criar um arquivo **app.py** e digitar o código abaixo:"
   ]
  },
  {
   "cell_type": "code",
   "execution_count": null,
   "metadata": {},
   "outputs": [],
   "source": [
    "from flask import Flask\n",
    "\n",
    "app = Flask(__name__)\n",
    "\n",
    "@app.route('/')\n",
    "def ola():\n",
    "    return '<p>Hello, Flask!</p>'\n",
    "\n",
    "if __name__ == '__main__':\n",
    "    app.run(debug=True)\n"
   ]
  },
  {
   "cell_type": "markdown",
   "metadata": {},
   "source": [
    "Após isso vamo executar o arquivo no terminal:\n",
    "\n",
    "![runflask](img/run.png)\n"
   ]
  }
 ],
 "metadata": {
  "language_info": {
   "name": "python"
  }
 },
 "nbformat": 4,
 "nbformat_minor": 2
}
